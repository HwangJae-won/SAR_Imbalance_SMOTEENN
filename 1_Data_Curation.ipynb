{
 "cells": [
  {
   "cell_type": "code",
   "execution_count": 19,
   "metadata": {
    "collapsed": true
   },
   "outputs": [],
   "source": [
    "import os\n",
    "import numpy as np\n",
    "import pandas as pd\n",
    "from rdkit.Chem import PandasTools\n",
    "from rdkit import Chem\n",
    "import molvs as mv"
   ]
  },
  {
   "cell_type": "code",
   "execution_count": 70,
   "metadata": {
    "collapsed": true
   },
   "outputs": [],
   "source": [
    "#INITIAL TRAINING DATASET\n",
    "combinedDF = pd.DataFrame(columns=['SMILES','ID'])\n",
    "\n",
    "for filename in os.listdir(os.getcwd()):\n",
    "    if filename.endswith('.smiles'):\n",
    "        df = pd.read_csv(filename, header=None, sep='\\t')\n",
    "        df.columns=['SMILES','ID',filename[:-7]]\n",
    "        combinedDF = combinedDF.merge(df, on=['SMILES', 'ID'], how='outer')"
   ]
  },
  {
   "cell_type": "code",
   "execution_count": 71,
   "metadata": {},
   "outputs": [
    {
     "data": {
      "text/plain": [
       "(11764, 14)"
      ]
     },
     "execution_count": 71,
     "metadata": {},
     "output_type": "execute_result"
    }
   ],
   "source": [
    "combinedDF.shape"
   ]
  },
  {
   "cell_type": "code",
   "execution_count": 72,
   "metadata": {},
   "outputs": [
    {
     "data": {
      "text/html": [
       "<table border=\"1\" class=\"dataframe\">\n",
       "  <thead>\n",
       "    <tr style=\"text-align: right;\">\n",
       "      <th></th>\n",
       "      <th>SMILES</th>\n",
       "      <th>ID</th>\n",
       "      <th>nr-ar-lbd</th>\n",
       "      <th>sr-are</th>\n",
       "      <th>nr-er</th>\n",
       "      <th>nr-ar</th>\n",
       "      <th>nr-er-lbd</th>\n",
       "      <th>sr-mmp</th>\n",
       "      <th>sr-hse</th>\n",
       "      <th>nr-ppar-gamma</th>\n",
       "      <th>sr-p53</th>\n",
       "      <th>sr-atad5</th>\n",
       "      <th>nr-ahr</th>\n",
       "      <th>nr-aromatase</th>\n",
       "    </tr>\n",
       "  </thead>\n",
       "  <tbody>\n",
       "    <tr>\n",
       "      <th>0</th>\n",
       "      <td>Cl.CC(NCCC(C1=CC=CC=C1)C2=CC=CC=C2)C3=CC=CC=C3</td>\n",
       "      <td>NCGC00094891-01</td>\n",
       "      <td>0.0</td>\n",
       "      <td>NaN</td>\n",
       "      <td>NaN</td>\n",
       "      <td>0.0</td>\n",
       "      <td>NaN</td>\n",
       "      <td>1.0</td>\n",
       "      <td>NaN</td>\n",
       "      <td>NaN</td>\n",
       "      <td>NaN</td>\n",
       "      <td>NaN</td>\n",
       "      <td>NaN</td>\n",
       "      <td>NaN</td>\n",
       "    </tr>\n",
       "    <tr>\n",
       "      <th>1</th>\n",
       "      <td>OC1=C([Hg]Cl)C=CC=C1</td>\n",
       "      <td>NCGC00181158-01</td>\n",
       "      <td>1.0</td>\n",
       "      <td>NaN</td>\n",
       "      <td>NaN</td>\n",
       "      <td>0.0</td>\n",
       "      <td>1.0</td>\n",
       "      <td>NaN</td>\n",
       "      <td>NaN</td>\n",
       "      <td>NaN</td>\n",
       "      <td>NaN</td>\n",
       "      <td>NaN</td>\n",
       "      <td>NaN</td>\n",
       "      <td>NaN</td>\n",
       "    </tr>\n",
       "    <tr>\n",
       "      <th>2</th>\n",
       "      <td>FC(F)(F)S(=O)(=O)[N-]S(=O)(=O)C(F)(F)F.CCCCCCCC[N+](C)(CCCCCCCC)CCCCCCCC</td>\n",
       "      <td>NCGC00258157-01</td>\n",
       "      <td>0.0</td>\n",
       "      <td>0.0</td>\n",
       "      <td>NaN</td>\n",
       "      <td>0.0</td>\n",
       "      <td>NaN</td>\n",
       "      <td>NaN</td>\n",
       "      <td>NaN</td>\n",
       "      <td>NaN</td>\n",
       "      <td>NaN</td>\n",
       "      <td>NaN</td>\n",
       "      <td>NaN</td>\n",
       "      <td>NaN</td>\n",
       "    </tr>\n",
       "    <tr>\n",
       "      <th>3</th>\n",
       "      <td>COC1=CC=C(CCN2CCC(CC2)NC3=NC4=CC=CC=C4N3CC5=CC=C(F)C=C5)C=C1</td>\n",
       "      <td>NCGC00016913-08</td>\n",
       "      <td>0.0</td>\n",
       "      <td>NaN</td>\n",
       "      <td>NaN</td>\n",
       "      <td>0.0</td>\n",
       "      <td>0.0</td>\n",
       "      <td>NaN</td>\n",
       "      <td>NaN</td>\n",
       "      <td>NaN</td>\n",
       "      <td>NaN</td>\n",
       "      <td>NaN</td>\n",
       "      <td>NaN</td>\n",
       "      <td>NaN</td>\n",
       "    </tr>\n",
       "    <tr>\n",
       "      <th>4</th>\n",
       "      <td>Cl.CCCOC1=C(Br)C(C)=C(S1)C(=O)N2CCC(CC2)C3=CC(CN)=CC=C3F</td>\n",
       "      <td>NCGC00254244-01</td>\n",
       "      <td>1.0</td>\n",
       "      <td>NaN</td>\n",
       "      <td>NaN</td>\n",
       "      <td>0.0</td>\n",
       "      <td>NaN</td>\n",
       "      <td>NaN</td>\n",
       "      <td>NaN</td>\n",
       "      <td>NaN</td>\n",
       "      <td>NaN</td>\n",
       "      <td>0.0</td>\n",
       "      <td>NaN</td>\n",
       "      <td>NaN</td>\n",
       "    </tr>\n",
       "  </tbody>\n",
       "</table>"
      ],
      "text/plain": [
       "                                                                     SMILES               ID  nr-ar-lbd  sr-are  nr-er  nr-ar  nr-er-lbd  sr-mmp  sr-hse  nr-ppar-gamma  sr-p53  sr-atad5  nr-ahr  nr-aromatase\n",
       "0                            Cl.CC(NCCC(C1=CC=CC=C1)C2=CC=CC=C2)C3=CC=CC=C3  NCGC00094891-01        0.0     NaN    NaN    0.0        NaN     1.0     NaN            NaN     NaN       NaN     NaN           NaN\n",
       "1                                                      OC1=C([Hg]Cl)C=CC=C1  NCGC00181158-01        1.0     NaN    NaN    0.0        1.0     NaN     NaN            NaN     NaN       NaN     NaN           NaN\n",
       "2  FC(F)(F)S(=O)(=O)[N-]S(=O)(=O)C(F)(F)F.CCCCCCCC[N+](C)(CCCCCCCC)CCCCCCCC  NCGC00258157-01        0.0     0.0    NaN    0.0        NaN     NaN     NaN            NaN     NaN       NaN     NaN           NaN\n",
       "3              COC1=CC=C(CCN2CCC(CC2)NC3=NC4=CC=CC=C4N3CC5=CC=C(F)C=C5)C=C1  NCGC00016913-08        0.0     NaN    NaN    0.0        0.0     NaN     NaN            NaN     NaN       NaN     NaN           NaN\n",
       "4                  Cl.CCCOC1=C(Br)C(C)=C(S1)C(=O)N2CCC(CC2)C3=CC(CN)=CC=C3F  NCGC00254244-01        1.0     NaN    NaN    0.0        NaN     NaN     NaN            NaN     NaN       0.0     NaN           NaN"
      ]
     },
     "execution_count": 72,
     "metadata": {},
     "output_type": "execute_result"
    }
   ],
   "source": [
    "combinedDF.head()"
   ]
  },
  {
   "cell_type": "code",
   "execution_count": 28,
   "metadata": {
    "collapsed": true
   },
   "outputs": [],
   "source": [
    "#df_lead = pd.read_csv('.../.../tox21_10k_challenge_test.smiles', sep='\\t')\n",
    "#df_lead.head()"
   ]
  },
  {
   "cell_type": "code",
   "execution_count": 61,
   "metadata": {},
   "outputs": [
    {
     "data": {
      "text/plain": [
       "(647, 13)"
      ]
     },
     "execution_count": 61,
     "metadata": {},
     "output_type": "execute_result"
    }
   ],
   "source": [
    "#THE FINAL TEST SET\n",
    "df_score_smiles = pd.read_csv('/.../.../tox21_10k_challenge_score.smiles', sep='\\t')\n",
    "df_score_results = pd.read_csv('/.../.../Tox21_Restart/tox21_10k_challenge_score.txt', sep='\\t')\n",
    "\n",
    "df_test = pd.concat([df_score_smiles, df_score_results]).groupby('Sample ID', as_index=False, sort=False).first().fillna('NA')\n",
    "\n",
    "df_test = df_test.drop('Sample ID', axis=1).replace('x', np.nan)\n",
    "df_test.rename(columns={'#SMILES': 'smiles'}, inplace=True)\n",
    "df_test.shape"
   ]
  },
  {
   "cell_type": "code",
   "execution_count": 25,
   "metadata": {},
   "outputs": [
    {
     "data": {
      "text/html": [
       "<table border=\"1\" class=\"dataframe\">\n",
       "  <thead>\n",
       "    <tr style=\"text-align: right;\">\n",
       "      <th></th>\n",
       "      <th>smiles</th>\n",
       "      <th>NR-AR</th>\n",
       "      <th>NR-AR-LBD</th>\n",
       "      <th>NR-AhR</th>\n",
       "      <th>NR-Aromatase</th>\n",
       "      <th>NR-ER</th>\n",
       "      <th>NR-ER-LBD</th>\n",
       "      <th>NR-PPAR-gamma</th>\n",
       "      <th>SR-ARE</th>\n",
       "      <th>SR-ATAD5</th>\n",
       "      <th>SR-HSE</th>\n",
       "      <th>SR-MMP</th>\n",
       "      <th>SR-p53</th>\n",
       "    </tr>\n",
       "  </thead>\n",
       "  <tbody>\n",
       "    <tr>\n",
       "      <th>0</th>\n",
       "      <td>OC(=O)\\C=C/C(O)=O.C[C@]12CC=C3[C@@H](CCC4=CC(=O)C=C[C@]34C)[C@@H]1CC[C@@H]2C(=O)CN1CCN(CC1)C1=NC(=NC(=C1)N1CCCC1)N1CCCC1</td>\n",
       "      <td>1</td>\n",
       "      <td>NaN</td>\n",
       "      <td>0</td>\n",
       "      <td>0</td>\n",
       "      <td>0</td>\n",
       "      <td>0</td>\n",
       "      <td>0</td>\n",
       "      <td>NaN</td>\n",
       "      <td>0</td>\n",
       "      <td>0</td>\n",
       "      <td>NaN</td>\n",
       "      <td>0</td>\n",
       "    </tr>\n",
       "    <tr>\n",
       "      <th>1</th>\n",
       "      <td>[Na+].NC1=NC=NC2=C1N=C(Br)N2C1OC2CO[P@]([O-])(=O)O[C@@H]2C1O</td>\n",
       "      <td>1</td>\n",
       "      <td>NaN</td>\n",
       "      <td>0</td>\n",
       "      <td>NaN</td>\n",
       "      <td>0</td>\n",
       "      <td>0</td>\n",
       "      <td>0</td>\n",
       "      <td>0</td>\n",
       "      <td>0</td>\n",
       "      <td>0</td>\n",
       "      <td>0</td>\n",
       "      <td>0</td>\n",
       "    </tr>\n",
       "    <tr>\n",
       "      <th>2</th>\n",
       "      <td>O=C1N2CCC3=C(NC4=C3C=CC=C4)C2=NC2=C1C=CC=C2</td>\n",
       "      <td>1</td>\n",
       "      <td>0</td>\n",
       "      <td>1</td>\n",
       "      <td>NaN</td>\n",
       "      <td>1</td>\n",
       "      <td>0</td>\n",
       "      <td>0</td>\n",
       "      <td>1</td>\n",
       "      <td>1</td>\n",
       "      <td>0</td>\n",
       "      <td>1</td>\n",
       "      <td>0</td>\n",
       "    </tr>\n",
       "    <tr>\n",
       "      <th>3</th>\n",
       "      <td>Cl.FC1=CC=C(C=C1)C(OCCCC1=CNC=N1)C1=CC=C(F)C=C1</td>\n",
       "      <td>0</td>\n",
       "      <td>NaN</td>\n",
       "      <td>NaN</td>\n",
       "      <td>1</td>\n",
       "      <td>0</td>\n",
       "      <td>NaN</td>\n",
       "      <td>NaN</td>\n",
       "      <td>1</td>\n",
       "      <td>0</td>\n",
       "      <td>NaN</td>\n",
       "      <td>0</td>\n",
       "      <td>NaN</td>\n",
       "    </tr>\n",
       "    <tr>\n",
       "      <th>4</th>\n",
       "      <td>CC1=CC=C(C=C1)S(=O)(=O)N[C@@H](CC1=CC=CC=C1)C(=O)CCl</td>\n",
       "      <td>0</td>\n",
       "      <td>0</td>\n",
       "      <td>0</td>\n",
       "      <td>NaN</td>\n",
       "      <td>0</td>\n",
       "      <td>0</td>\n",
       "      <td>0</td>\n",
       "      <td>0</td>\n",
       "      <td>0</td>\n",
       "      <td>0</td>\n",
       "      <td>NaN</td>\n",
       "      <td>1</td>\n",
       "    </tr>\n",
       "  </tbody>\n",
       "</table>"
      ],
      "text/plain": [
       "                                                                                                                     smiles NR-AR NR-AR-LBD NR-AhR NR-Aromatase NR-ER NR-ER-LBD NR-PPAR-gamma SR-ARE SR-ATAD5 SR-HSE SR-MMP SR-p53\n",
       "0  OC(=O)\\C=C/C(O)=O.C[C@]12CC=C3[C@@H](CCC4=CC(=O)C=C[C@]34C)[C@@H]1CC[C@@H]2C(=O)CN1CCN(CC1)C1=NC(=NC(=C1)N1CCCC1)N1CCCC1     1       NaN      0            0     0         0             0    NaN        0      0    NaN      0\n",
       "1                                                              [Na+].NC1=NC=NC2=C1N=C(Br)N2C1OC2CO[P@]([O-])(=O)O[C@@H]2C1O     1       NaN      0          NaN     0         0             0      0        0      0      0      0\n",
       "2                                                                               O=C1N2CCC3=C(NC4=C3C=CC=C4)C2=NC2=C1C=CC=C2     1         0      1          NaN     1         0             0      1        1      0      1      0\n",
       "3                                                                           Cl.FC1=CC=C(C=C1)C(OCCCC1=CNC=N1)C1=CC=C(F)C=C1     0       NaN    NaN            1     0       NaN           NaN      1        0    NaN      0    NaN\n",
       "4                                                                      CC1=CC=C(C=C1)S(=O)(=O)N[C@@H](CC1=CC=CC=C1)C(=O)CCl     0         0      0          NaN     0         0             0      0        0      0    NaN      1"
      ]
     },
     "execution_count": 25,
     "metadata": {},
     "output_type": "execute_result"
    }
   ],
   "source": [
    "df_test.head()"
   ]
  },
  {
   "cell_type": "code",
   "execution_count": 65,
   "metadata": {
    "collapsed": true
   },
   "outputs": [],
   "source": [
    "#LEADERBOARD DATA SET\n",
    "df_leaderbd = PandasTools.LoadSDF('/.../.../tox21_10k_challenge_test.sdf')\n",
    "\n",
    "#Drop duplicates by ID\n",
    "#df_train_lead = pd.concat([df_train, df_leaderbd])\n",
    "#df_train_lead = df_train_lead.drop_duplicates(['ID'], keep = 'first')\n",
    "#tox21_df.info()\n",
    "\n",
    "#Select only useful columns: assays and the ligands(ROMol) total = 13\n",
    "keep_cols = ['NR-AR', 'NR-AR-LBD', 'NR-AhR', 'NR-Aromatase', 'NR-ER', 'NR-ER-LBD', 'NR-PPAR-gamma',\n",
    "            'SR-ARE', 'SR-ATAD5', 'SR-HSE', 'SR-MMP', 'SR-p53', 'ROMol']\n",
    "df_leaderbd = df_leaderbd[keep_cols]\n",
    "\n",
    "#Convert Mol to smiles\n",
    "df_leaderbd['smiles'] = df_leaderbd['ROMol'].apply(Chem.MolToSmiles)\n",
    "df_leaderbd = df_leaderbd.drop('ROMol', axis=1)\n",
    "\n",
    "cols = df_leaderbd.columns.tolist()\n",
    "cols = cols[-1:] + cols[:-1]\n",
    "df_leaderbd = df_leaderbd[cols]"
   ]
  },
  {
   "cell_type": "code",
   "execution_count": 22,
   "metadata": {},
   "outputs": [
    {
     "data": {
      "text/html": [
       "<table border=\"1\" class=\"dataframe\">\n",
       "  <thead>\n",
       "    <tr style=\"text-align: right;\">\n",
       "      <th></th>\n",
       "      <th>smiles</th>\n",
       "      <th>NR-AR</th>\n",
       "      <th>NR-AR-LBD</th>\n",
       "      <th>NR-AhR</th>\n",
       "      <th>NR-Aromatase</th>\n",
       "      <th>NR-ER</th>\n",
       "      <th>NR-ER-LBD</th>\n",
       "      <th>NR-PPAR-gamma</th>\n",
       "      <th>SR-ARE</th>\n",
       "      <th>SR-ATAD5</th>\n",
       "      <th>SR-HSE</th>\n",
       "      <th>SR-MMP</th>\n",
       "      <th>SR-p53</th>\n",
       "    </tr>\n",
       "  </thead>\n",
       "  <tbody>\n",
       "    <tr>\n",
       "      <th>0</th>\n",
       "      <td>CNc1ncnc2c1ncn2C1OC(CO)C(O)C1O</td>\n",
       "      <td>0</td>\n",
       "      <td>0</td>\n",
       "      <td>0</td>\n",
       "      <td>NaN</td>\n",
       "      <td>0</td>\n",
       "      <td>0</td>\n",
       "      <td>0</td>\n",
       "      <td>0</td>\n",
       "      <td>1</td>\n",
       "      <td>0</td>\n",
       "      <td>0</td>\n",
       "      <td>0</td>\n",
       "    </tr>\n",
       "    <tr>\n",
       "      <th>1</th>\n",
       "      <td>Oc1cc(O)cc(C=Cc2ccc(O)c(O)c2)c1</td>\n",
       "      <td>0</td>\n",
       "      <td>0</td>\n",
       "      <td>NaN</td>\n",
       "      <td>NaN</td>\n",
       "      <td>1</td>\n",
       "      <td>NaN</td>\n",
       "      <td>0</td>\n",
       "      <td>NaN</td>\n",
       "      <td>1</td>\n",
       "      <td>NaN</td>\n",
       "      <td>NaN</td>\n",
       "      <td>1</td>\n",
       "    </tr>\n",
       "    <tr>\n",
       "      <th>2</th>\n",
       "      <td>COc1ccc2c(c[n+](C)c3c4cc5c(cc4ccc23)OCO5)c1OC.[Cl-]</td>\n",
       "      <td>0</td>\n",
       "      <td>NaN</td>\n",
       "      <td>1</td>\n",
       "      <td>NaN</td>\n",
       "      <td>0</td>\n",
       "      <td>NaN</td>\n",
       "      <td>NaN</td>\n",
       "      <td>1</td>\n",
       "      <td>NaN</td>\n",
       "      <td>1</td>\n",
       "      <td>NaN</td>\n",
       "      <td>0</td>\n",
       "    </tr>\n",
       "    <tr>\n",
       "      <th>3</th>\n",
       "      <td>Br.Cc1onc(O)c1CC(N)C(=O)O</td>\n",
       "      <td>0</td>\n",
       "      <td>0</td>\n",
       "      <td>0</td>\n",
       "      <td>0</td>\n",
       "      <td>0</td>\n",
       "      <td>0</td>\n",
       "      <td>0</td>\n",
       "      <td>0</td>\n",
       "      <td>0</td>\n",
       "      <td>0</td>\n",
       "      <td>0</td>\n",
       "      <td>0</td>\n",
       "    </tr>\n",
       "    <tr>\n",
       "      <th>4</th>\n",
       "      <td>Nc1nc(N)c(N=O)c(OCC2CCCCC2)n1</td>\n",
       "      <td>1</td>\n",
       "      <td>0</td>\n",
       "      <td>0</td>\n",
       "      <td>0</td>\n",
       "      <td>NaN</td>\n",
       "      <td>0</td>\n",
       "      <td>0</td>\n",
       "      <td>1</td>\n",
       "      <td>1</td>\n",
       "      <td>0</td>\n",
       "      <td>NaN</td>\n",
       "      <td>0</td>\n",
       "    </tr>\n",
       "  </tbody>\n",
       "</table>"
      ],
      "text/plain": [
       "                                                smiles NR-AR NR-AR-LBD NR-AhR NR-Aromatase NR-ER NR-ER-LBD NR-PPAR-gamma SR-ARE SR-ATAD5 SR-HSE SR-MMP SR-p53\n",
       "0                       CNc1ncnc2c1ncn2C1OC(CO)C(O)C1O     0         0      0          NaN     0         0             0      0        1      0      0      0\n",
       "1                      Oc1cc(O)cc(C=Cc2ccc(O)c(O)c2)c1     0         0    NaN          NaN     1       NaN             0    NaN        1    NaN    NaN      1\n",
       "2  COc1ccc2c(c[n+](C)c3c4cc5c(cc4ccc23)OCO5)c1OC.[Cl-]     0       NaN      1          NaN     0       NaN           NaN      1      NaN      1    NaN      0\n",
       "3                            Br.Cc1onc(O)c1CC(N)C(=O)O     0         0      0            0     0         0             0      0        0      0      0      0\n",
       "4                        Nc1nc(N)c(N=O)c(OCC2CCCCC2)n1     1         0      0            0   NaN         0             0      1        1      0    NaN      0"
      ]
     },
     "execution_count": 22,
     "metadata": {},
     "output_type": "execute_result"
    }
   ],
   "source": [
    "df_leaderbd.head()"
   ]
  },
  {
   "cell_type": "code",
   "execution_count": 27,
   "metadata": {},
   "outputs": [
    {
     "data": {
      "text/plain": [
       "(295, 13)"
      ]
     },
     "execution_count": 27,
     "metadata": {},
     "output_type": "execute_result"
    }
   ],
   "source": [
    "df_leaderbd.shape"
   ]
  },
  {
   "cell_type": "code",
   "execution_count": 29,
   "metadata": {
    "collapsed": true
   },
   "outputs": [],
   "source": [
    "#STANDARDIZATION STEP\n",
    "#Function to get parent of a smiles\n",
    "def get_parent_smile(smile):\n",
    "    try:\n",
    "        st = mv.Standardizer()\n",
    "        mol = Chem.MolFromSmiles(smile)\n",
    "        smts = Chem.MolFromSmarts(\"[!#1&!#5&!#6&!#7&!#8&!#9&!#14&!#15&!#16&!#17&!#34&!#35&!#53]~*\")\n",
    "        if mol.HasSubstructMatch(smts) == False:\n",
    "            mols = st.charge_parent(mol)\n",
    "            return Chem.MolToSmiles(mols)\n",
    "        else:\n",
    "            #print(smile)\n",
    "            return 'problematic'\n",
    "    except:\n",
    "        return 'NaN'\n",
    "    \n",
    "#Clean and standardize the data\n",
    "def clean_data(data):\n",
    "    #remove missing smiles\n",
    "    data = data[~(data['smiles'].isnull())]\n",
    "    \n",
    "    #Standardize and get parent with molvs\n",
    "    data[\"smiles_parent\"] = data.smiles.apply(get_parent_smile)\n",
    "    data = data[~(data['smiles_parent'] == \"NaN\")]\n",
    "    \n",
    "    #Identifiy compounds that fail SMILE conversion\n",
    "    pCompounds = data[data['smiles_parent']=='problematic']['smiles']\n",
    "    data = data[~(data['smiles_parent'] == 'problematic')]\n",
    "    print(len(pCompounds))\n",
    "    \n",
    "    return data\n",
    "\n",
    "#Generate Unique InchiKey for Identification purpose\n",
    "def inchikey_gen(smile):\n",
    "    try:\n",
    "        m = Chem.MolFromSmiles(smile)\n",
    "        m_ = Chem.MolToInchi(m)\n",
    "        m__ = Chem.InchiToInchiKey(m_)\n",
    "        return m__\n",
    "    except:\n",
    "        return 'Failed'\n",
    "\n",
    "def remove_pc(data):\n",
    "    #Remove compunds that failed SMILE Conversion\n",
    "    pCompounds = data[data['smiles_parent']=='problematic']['smiles']\n",
    "    data = data[~(data['smiles_parent'] == 'problematic')]\n",
    "    print(len(pCompounds))\n",
    "    return data"
   ]
  },
  {
   "cell_type": "code",
   "execution_count": 73,
   "metadata": {},
   "outputs": [
    {
     "name": "stdout",
     "output_type": "stream",
     "text": [
      "0\n"
     ]
    }
   ],
   "source": [
    "#df_train = combinedDF.rename(columns={'SMILES': 'smiles'})\n",
    "df_train.columns = df_train.columns.str.lower()\n",
    "df_train = clean_data(df_train)"
   ]
  },
  {
   "cell_type": "code",
   "execution_count": 74,
   "metadata": {},
   "outputs": [
    {
     "data": {
      "text/plain": [
       "(11628, 15)"
      ]
     },
     "execution_count": 74,
     "metadata": {},
     "output_type": "execute_result"
    }
   ],
   "source": [
    "df_train.shape"
   ]
  },
  {
   "cell_type": "code",
   "execution_count": 66,
   "metadata": {},
   "outputs": [
    {
     "name": "stdout",
     "output_type": "stream",
     "text": [
      "3\n"
     ]
    }
   ],
   "source": [
    "df_leaderbd = clean_data(df_leaderbd)"
   ]
  },
  {
   "cell_type": "code",
   "execution_count": 62,
   "metadata": {},
   "outputs": [
    {
     "name": "stdout",
     "output_type": "stream",
     "text": [
      "14\n"
     ]
    }
   ],
   "source": [
    "df_test = clean_data(df_test)"
   ]
  },
  {
   "cell_type": "code",
   "execution_count": 63,
   "metadata": {
    "collapsed": true
   },
   "outputs": [],
   "source": [
    "#Drop duplicates by majority rule\n",
    "#If a compound is duplicated, record the most occuring activity, if the activities for the dupplicates occur same number\n",
    "#of times e.g. 4 duplicates with 2 active and 2 inactives, such compound (all its duplicates) should be considered \n",
    "#ambiguous and removed. If no duplicate, leave the compound.\n",
    "\n",
    "def moder(x):\n",
    "    m = pd.Series.mode(x)\n",
    "    if len(m) == 1: \n",
    "        return m\n",
    "\n",
    "\n",
    "#assays = ['NR-AR', 'NR-AR-LBD', 'NR-AhR', 'NR-Aromatase', 'NR-ER', 'NR-ER-LBD', 'NR-PPAR-gamma', 'SR-ARE', 'SR-ATAD5', 'SR-HSE', 'SR-MMP', 'SR-p53']\n",
    "assays = ['nr-ar', 'nr-ar-lbd', 'nr-ahr', 'nr-aromatase', 'nr-er', 'nr-er-lbd', 'nr-ppar-gamma', 'sr-are', 'sr-atad5', 'sr-hse', 'sr-mmp', 'sr-p53']\n",
    "def dedup_majority_rule(data):\n",
    "    dataDF = pd.DataFrame(columns=['smiles_parent'])\n",
    "    for i in assays:\n",
    "        a = data[['smiles_parent', i]]\n",
    "        res = a.groupby('smiles_parent')[i].apply(moder).reset_index(level=1, drop=True).reset_index()\n",
    "        dataDF = dataDF.merge(res, on=['smiles_parent'], how='outer')\n",
    "    return dataDF\n",
    "\n",
    "    #res.head()\n",
    "#combinedDF"
   ]
  },
  {
   "cell_type": "code",
   "execution_count": null,
   "metadata": {
    "collapsed": true
   },
   "outputs": [],
   "source": [
    "#testDF = df_test.rename(columns = {'smiles_parent': 's_p'})\n",
    "df_test.columns = df_test.columns.str.lower()\n",
    "testDF = dedup_majority_rule(df_test)\n",
    "testDF.shape"
   ]
  },
  {
   "cell_type": "code",
   "execution_count": null,
   "metadata": {
    "collapsed": true
   },
   "outputs": [],
   "source": [
    "df_leaderbd.columns = df_leaderbd.columns.str.lower()\n",
    "leaderbdDF = dedup_majority_rule(df_leaderbd)\n",
    "leaderbdDF.shape"
   ]
  },
  {
   "cell_type": "code",
   "execution_count": 75,
   "metadata": {},
   "outputs": [
    {
     "data": {
      "text/plain": [
       "(7396, 13)"
      ]
     },
     "execution_count": 75,
     "metadata": {},
     "output_type": "execute_result"
    }
   ],
   "source": [
    "trainDF = dedup_majority_rule(df_train)\n",
    "trainDF.shape"
   ]
  },
  {
   "cell_type": "code",
   "execution_count": null,
   "metadata": {
    "collapsed": true
   },
   "outputs": [],
   "source": [
    "#Concat trainDF and leaderbdDF the training data\n",
    "#Retain testDF as test data set\n",
    "\n",
    "#trainDF.to_csv('trainDF.csv')"
   ]
  }
 ],
 "metadata": {
  "kernelspec": {
   "display_name": "Python 3",
   "language": "python",
   "name": "python3"
  },
  "language_info": {
   "codemirror_mode": {
    "name": "ipython",
    "version": 3
   },
   "file_extension": ".py",
   "mimetype": "text/x-python",
   "name": "python",
   "nbconvert_exporter": "python",
   "pygments_lexer": "ipython3",
   "version": "3.6.5"
  }
 },
 "nbformat": 4,
 "nbformat_minor": 2
}

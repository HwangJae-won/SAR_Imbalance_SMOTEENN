{
 "cells": [
  {
   "cell_type": "code",
   "execution_count": null,
   "metadata": {},
   "outputs": [],
   "source": [
    "import pickle\n",
    "import numpy as np\n",
    "import pandas as pd\n",
    "from sklearn.feature_selection import VarianceThreshold\n",
    "from sklearn.preprocessing import StandardScaler, MinMaxScaler, Imputer\n",
    "from sklearn.neural_network import MLPClassifier\n",
    "from sklearn.neighbors import KNeighborsClassifier\n",
    "from sklearn.naive_bayes import GaussianNB\n",
    "from sklearn.linear_model import LogisticRegression\n",
    "from sklearn.svm import LinearSVC\n",
    "from sklearn.tree import DecisionTreeClassifier\n",
    "from sklearn.model_selection import StratifiedKFold, cross_val_score, train_test_split, GridSearchCV, RandomizedSearchCV\n",
    "from sklearn import metrics\n",
    "from sklearn.ensemble import RandomForestClassifier\n",
    "import matplotlib.pyplot as plt\n",
    "%matplotlib inline "
   ]
  },
  {
   "cell_type": "code",
   "execution_count": null,
   "metadata": {},
   "outputs": [],
   "source": [
    "Train = pd.read_csv('trainDF_rdkit.csv')\n",
    "Test = pd.read_csv('testDF_rdkit.csv')"
   ]
  },
  {
   "cell_type": "code",
   "execution_count": null,
   "metadata": {},
   "outputs": [],
   "source": [
    "y_train = Train.iloc[:,-12:]#.replace([\"NaN\", 'NA'], np.nan).astype('float32')\n",
    "X_train = Train.iloc[:,:-12]\n",
    "\n",
    "y_test = Test.iloc[:,-12:]#.replace([\"NaN\", 'NA'], np.nan).astype('float32')\n",
    "X_test = Test.iloc[:,:-12]"
   ]
  },
  {
   "cell_type": "code",
   "execution_count": null,
   "metadata": {},
   "outputs": [],
   "source": [
    "for target in y_train.columns:\n",
    "    print(target)\n",
    "    iy_train = y_train[target].dropna()\n",
    "    iy_test = y_test[target].dropna()\n",
    "\n",
    "    iX_train = X_train.iloc[iy_train.index, :].reset_index(drop=True)\n",
    "    iX_test = X_test.iloc[iy_test.index, :].reset_index(drop=True)\n",
    "    \n",
    "    imputer = Imputer(missing_values='NaN', strategy='mean', axis = 0)\n",
    "    #iX_train = imputer.fit_transform(iX_train)\n",
    "    #iX_test = imputer.fit_transform(iX_test)\n",
    "    iX_train = pd.DataFrame(imputer.fit_transform(iX_train), columns = iX_train.columns)\n",
    "    iX_test = pd.DataFrame(imputer.fit_transform(iX_test), columns = iX_test.columns)\n",
    "    \n",
    "    scaler = MinMaxScaler()\n",
    "    #scaler = StandardScaler()\n",
    "    #iX_train = scaler.fit_transform(iX_train)\n",
    "    #iX_test = scaler.transform(iX_test)\n",
    "    iX_train = pd.DataFrame(scaler.fit_transform(iX_train), columns = iX_train.columns)\n",
    "    iX_test = pd.DataFrame(scaler.transform(iX_test), columns = iX_test.columns)\n",
    "\n",
    "    X_train_, X_test_, y_train_, y_test_ = iX_train, iX_test, iy_train, iy_test\n",
    "    \n",
    "    \n",
    "    models = []\n",
    "    models.append(('LR', LogisticRegression()))\n",
    "    models.append(('RF', RandomForestClassifier()))\n",
    "    models.append(('KNN', KNeighborsClassifier()))\n",
    "    models.append(('CART', DecisionTreeClassifier()))\n",
    "    models.append(('NB', GaussianNB()))\n",
    "    models.append(('SVM', LinearSVC()))\n",
    "    models.append(('DNN', MLPClassifier()))\n",
    "\n",
    "    # evaluate each model in turn\n",
    "    results = []\n",
    "    names = []\n",
    "    scoring = 'f1'\n",
    "    for name, model in models:\n",
    "        kfold = StratifiedKFold(n_splits=5)\n",
    "        cv_results = cross_val_score(model, X_train_, y_train_, cv=kfold, scoring=scoring)\n",
    "        results.append(cv_results)\n",
    "        names.append(name)\n",
    "        msg = \"%s: %f (%f)\" % (name, cv_results.mean(), cv_results.std())\n",
    "        print(msg)\n",
    "    # boxplot algorithm comparison\n",
    "    fig = plt.figure(figsize=(10, 10))\n",
    "    fig.suptitle('Algorithm Comparison')\n",
    "    plt.xlabel(\"Algorithms\")\n",
    "    plt.ylabel(\"CV Score (f1_macro)\")\n",
    "    ax = fig.add_subplot(111)\n",
    "    plt.boxplot(results)\n",
    "    ax.set_xticklabels(names)\n",
    "    plt.show()"
   ]
  },
  {
   "cell_type": "code",
   "execution_count": null,
   "metadata": {},
   "outputs": [],
   "source": []
  },
  {
   "cell_type": "code",
   "execution_count": null,
   "metadata": {},
   "outputs": [],
   "source": []
  }
 ],
 "metadata": {
  "kernelspec": {
   "display_name": "Python 3",
   "language": "python",
   "name": "python3"
  },
  "language_info": {
   "codemirror_mode": {
    "name": "ipython",
    "version": 3
   },
   "file_extension": ".py",
   "mimetype": "text/x-python",
   "name": "python",
   "nbconvert_exporter": "python",
   "pygments_lexer": "ipython3",
   "version": "3.6.5"
  }
 },
 "nbformat": 4,
 "nbformat_minor": 2
}
